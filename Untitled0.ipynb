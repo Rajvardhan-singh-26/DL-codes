{
  "nbformat": 4,
  "nbformat_minor": 0,
  "metadata": {
    "colab": {
      "provenance": [],
      "authorship_tag": "ABX9TyO2kSYwJ3RCXkPIgdm1yDnE",
      "include_colab_link": true
    },
    "kernelspec": {
      "name": "python3",
      "display_name": "Python 3"
    },
    "language_info": {
      "name": "python"
    }
  },
  "cells": [
    {
      "cell_type": "markdown",
      "metadata": {
        "id": "view-in-github",
        "colab_type": "text"
      },
      "source": [
        "<a href=\"https://colab.research.google.com/github/Rajvardhan-singh-26/DL-codes_500108005/blob/main/Untitled0.ipynb\" target=\"_parent\"><img src=\"https://colab.research.google.com/assets/colab-badge.svg\" alt=\"Open In Colab\"/></a>"
      ]
    },
    {
      "cell_type": "code",
      "execution_count": null,
      "metadata": {
        "id": "qJz-c6tB_0W7"
      },
      "outputs": [],
      "source": [
        "# prompt: Data Loading and Preprocessing:\n",
        "# Load a dataset (e.g., CSV, Excel) using NumPy.\n",
        "# Clean and preprocess the data (handling missing values, normalization, standardization).\n",
        "# Calculate mean, median, standard deviation, variance, and other statistical measures.\n",
        "\n",
        "import numpy as np\n",
        "import pandas as pd\n",
        "\n",
        "# Load the dataset\n",
        "data = pd.read_csv(\"/content/sample_data/california_housing_test.csv\")  # Replace 'your_data.csv' with your file path\n",
        "\n",
        "# Handle missing values\n",
        "data.fillna(data.mean(), inplace=True)  # Replace missing values with the mean-"
      ]
    },
    {
      "cell_type": "code",
      "source": [
        "from sklearn.preprocessing import MinMaxScaler\n",
        "scaler = MinMaxScaler()\n",
        "data[['column1', 'column2']] = scaler.fit_transform(data[['longitude', 'latitude']])  # Replace 'column1', 'column2' with your column names# Standardize the data\n",
        "from sklearn.preprocessing import StandardScaler\n",
        "scaler = StandardScaler()\n",
        "data[['column1', 'column2']] = scaler.fit_transform(data[['column1', 'column2']])  # Replace 'column1', 'column2' with your column names\n",
        "# Calculate statistical measures\n",
        "print(\"Mean:\", data['column1'].mean())  # Replace 'column1' with your column name\n",
        "print(\"Median:\", data['column1'].median())  # Replace 'column1' with your column name\n",
        "print(\"Standard Deviation:\", data['column1'].std())  # Replace 'column1' with your column name\n",
        "print(\"Variance:\", data['column1'].var())  # Replace 'column1' with your column name\n"
      ],
      "metadata": {
        "colab": {
          "base_uri": "https://localhost:8080/"
        },
        "id": "6Gz9NM_MAdhW",
        "outputId": "3a1082b7-7fed-4346-cd41-54ce47f4965b"
      },
      "execution_count": null,
      "outputs": [
        {
          "output_type": "stream",
          "name": "stdout",
          "text": [
            "Mean: -2.6645352591003756e-16\n",
            "Median: 0.553593657452077\n",
            "Standard Deviation: 1.0001667083449108\n",
            "Variance: 1.0003334444814937\n"
          ]
        }
      ]
    },
    {
      "cell_type": "code",
      "source": [
        "# prompt: # Function to perform XOR between two binary strings and print steps\n",
        "# def xor(a, b):\n",
        "#     result = ''\n",
        "#     for i in range(1, len(b)):\n",
        "#         result += '0' if a[i] == b[i] else '1'\n",
        "#     print(f\"XORing:\\n{a}\\n{b}\\n{'-' * len(a)}\\n{result}\")\n",
        "#     return result\n",
        "# # Function to divide the dividend by the divisor using mod-2 division with step-wise output\n",
        "# def mod2div(dividend, divisor):\n",
        "#     print(f\"\\nPerform\n",
        "\n",
        "# Function to perform XOR between two binary strings and print steps\n",
        "def xor(a, b):\n",
        "    result = ''\n",
        "    for i in range(len(b)):\n",
        "        if a[i] == b[i]:\n",
        "            result += '0'\n",
        "        else:\n",
        "            result += '1'\n",
        "    print(f\"XORing:\\n{a}\\n{b}\\n{'-' * len(a)}\\n{result}\")\n",
        "    return result\n",
        "\n",
        "# Function to divide the dividend by the divisor using mod-2 division with step-wise output\n",
        "def mod2div(dividend, divisor):\n",
        "    pick = len(divisor)\n",
        "    tmp = dividend[0 : pick]\n",
        "    while len(dividend) > pick:\n",
        "        if tmp[0] == '1':\n",
        "            x = xor(divisor, tmp)\n",
        "            tmp = x + dividend[pick]\n",
        "            dividend = tmp\n",
        "        else:\n",
        "            x = xor('0' * pick, tmp)\n",
        "            tmp = x + dividend[pick]\n",
        "            dividend = tmp\n",
        "        pick = len(divisor)\n",
        "        tmp = dividend[0 : pick]\n",
        "    print(f\"\\nRemainder:\\n{dividend}\")\n",
        "    return dividend\n"
      ],
      "metadata": {
        "id": "9HsBZvkhYL2l"
      },
      "execution_count": null,
      "outputs": []
    }
  ]
}